{
  "cells": [
    {
      "cell_type": "code",
      "source": [
        "!pip install mlflow\n",
        "import numpy as np\n",
        "import pandas as pd\n",
        "import mlflow"
      ],
      "metadata": {
        "id": "XFdUaXI7G5KC"
      },
      "id": "XFdUaXI7G5KC",
      "execution_count": null,
      "outputs": []
    },
    {
      "cell_type": "code",
      "source": [
        "# Cargar datos\n",
        "datos = pd.read_csv(\"datos_lineales.csv\")\n",
        "x = datos[\"x\"].values\n",
        "y = datos[\"y\"].values\n",
        "\n",
        "# Añadir columna de unos para el término constante\n",
        "X = np.vstack((np.ones(len(x)), x)).T\n",
        "N = len(y)\n",
        "\n",
        "# Parámetros\n",
        "NITMAX = 1000\n",
        "gamma_valor = 0.01\n"
      ],
      "metadata": {
        "id": "PPE1TKpGIrdJ"
      },
      "id": "PPE1TKpGIrdJ",
      "execution_count": null,
      "outputs": []
    },
    {
      "cell_type": "code",
      "source": [
        "# -------------------------\n",
        "# Descenso de gradiente\n",
        "# -------------------------\n",
        "def gradiente(X, y, NITMAX, gamma):\n",
        "    theta = np.zeros(X.shape[1])\n",
        "    for _ in range(NITMAX):\n",
        "        y_pred = np.dot(X, theta)\n",
        "        grad = (1 / len(y)) * np.dot(X.T, (y_pred - y))\n",
        "        theta = theta - gamma * grad\n",
        "    return theta\n",
        "\n",
        "# ---- Run 1: Gradiente ----\n",
        "with mlflow.start_run(run_name=\"gradiente\"):\n",
        "    theta_gd = gradiente(X, y, NITMAX, gamma_valor)\n",
        "    mse_gd = np.mean((X @ theta_gd - y)**2)\n",
        "\n",
        "    mlflow.log_param(\"algorithm\", \"gradiente\")\n",
        "    mlflow.log_param(\"gamma\", gamma_valor)\n",
        "    mlflow.log_param(\"NITMAX\", NITMAX)\n",
        "    mlflow.log_metric(\"mse\", mse_gd)\n",
        "    np.save(\"theta_gd.npy\", theta_gd)\n",
        "    mlflow.log_artifact(\"theta_gd.npy\")\n",
        "\n",
        "# -------------------------\n",
        "# Descenso de gradiente estocástico\n",
        "# -------------------------\n",
        "def sgd(X, y, NITMAX, gamma):\n",
        "    theta = np.zeros(X.shape[1])\n",
        "    for j in range(NITMAX):\n",
        "        for i in range(len(y)):\n",
        "            xi = X[i, :].reshape(1, -1)\n",
        "            yi = y[i]\n",
        "            y_pred = np.dot(xi, theta)\n",
        "            grad = (y_pred - yi) * xi\n",
        "            theta = theta - gamma * grad.squeeze()\n",
        "    return theta\n",
        "\n",
        "# ---- Run 2: Estocástico ----\n",
        "with mlflow.start_run(run_name=\"sgd\"):\n",
        "    theta_sgd = sgd(X, y, NITMAX, gamma_valor)\n",
        "    mse_sgd = np.mean((X @ theta_sgd - y)**2)\n",
        "\n",
        "    mlflow.log_param(\"algorithm\", \"sgd\")\n",
        "    mlflow.log_param(\"gamma\", gamma_valor)\n",
        "    mlflow.log_param(\"NITMAX\", NITMAX)\n",
        "    mlflow.log_metric(\"mse\", mse_sgd)\n",
        "    np.save(\"theta_sgd.npy\", theta_sgd)\n",
        "    mlflow.log_artifact(\"theta_sgd.npy\")\n",
        "\n",
        "# -------------------------\n",
        "# Mostrar resultados\n",
        "# -------------------------\n",
        "print(\"Coeficientes GD:\", theta_gd)\n",
        "print(\"Coeficientes SGD:\", theta_sgd)\n",
        "print(\"MSE GD:\", mse_gd)\n",
        "print(\"MSE SGD:\", mse_sgd)"
      ],
      "metadata": {
        "id": "IMkyozA3HVen"
      },
      "id": "IMkyozA3HVen",
      "execution_count": null,
      "outputs": []
    }
  ],
  "metadata": {
    "colab": {
      "provenance": []
    },
    "language_info": {
      "name": "python"
    },
    "kernelspec": {
      "name": "python3",
      "display_name": "Python 3"
    }
  },
  "nbformat": 4,
  "nbformat_minor": 5
}